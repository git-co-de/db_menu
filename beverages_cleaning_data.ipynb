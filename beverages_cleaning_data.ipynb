{
 "cells": [
  {
   "cell_type": "code",
   "execution_count": 1,
   "metadata": {},
   "outputs": [
    {
     "data": {
      "text/plain": [
       "' Kategorien: \\n- Heißgetränke\\n- Alkoholfreie Getränke\\n- Bier\\n- Wein & Sekt\\n'"
      ]
     },
     "execution_count": 1,
     "metadata": {},
     "output_type": "execute_result"
    }
   ],
   "source": [
    "# Ziel: eine csv erstellen, die die Preisentwicklung der verschiedenen Produkte \n",
    "#       darstellt\n",
    "\"\"\" Kategorien: \n",
    "- Heißgetränke\n",
    "- Alkoholfreie Getränke\n",
    "- Bier\n",
    "- Wein & Sekt\n",
    "\"\"\"\n",
    "# Vergleich mit food_all_cleaned.csv: Alle EInträge sind nach Zeit sortiert. Wurden sie konkateniert?"
   ]
  },
  {
   "cell_type": "code",
   "execution_count": 2,
   "metadata": {},
   "outputs": [],
   "source": [
    "import pandas as pd\n",
    "import numpy as np\n",
    "import glob\n",
    "import os"
   ]
  },
  {
   "cell_type": "code",
   "execution_count": 3,
   "metadata": {},
   "outputs": [],
   "source": [
    "all_files = glob.glob(os.path.join(\"*.csv\"))\n",
    "\n",
    "df = pd.concat((pd.read_csv(f) for f in all_files), ignore_index=True)"
   ]
  },
  {
   "cell_type": "code",
   "execution_count": 4,
   "metadata": {},
   "outputs": [],
   "source": [
    "df.sort_values([\"date\", \"category\"], inplace=True)"
   ]
  },
  {
   "cell_type": "code",
   "execution_count": 5,
   "metadata": {},
   "outputs": [
    {
     "name": "stdout",
     "output_type": "stream",
     "text": [
      "<class 'pandas.core.frame.DataFrame'>\n",
      "Index: 991 entries, 826 to 108\n",
      "Data columns (total 10 columns):\n",
      " #   Column       Non-Null Count  Dtype  \n",
      "---  ------       --------------  -----  \n",
      " 0   category     991 non-null    object \n",
      " 1   name         991 non-null    object \n",
      " 2   description  407 non-null    object \n",
      " 3   image        736 non-null    object \n",
      " 4   vegetaric    991 non-null    object \n",
      " 5   vegan        991 non-null    object \n",
      " 6   bio          991 non-null    object \n",
      " 7   menu         991 non-null    object \n",
      " 8   price        991 non-null    float64\n",
      " 9   date         991 non-null    object \n",
      "dtypes: float64(1), object(9)\n",
      "memory usage: 85.2+ KB\n"
     ]
    }
   ],
   "source": [
    "df.info()"
   ]
  },
  {
   "cell_type": "code",
   "execution_count": 6,
   "metadata": {},
   "outputs": [],
   "source": [
    "df = df.reset_index(drop=True)"
   ]
  },
  {
   "cell_type": "code",
   "execution_count": 7,
   "metadata": {},
   "outputs": [],
   "source": [
    "df[\"name\"] = np.where(df[\"name\"].str.lower().str.contains(\"grauburgunder\"), \"Grauburgunder\", df[\"name\"])"
   ]
  },
  {
   "cell_type": "code",
   "execution_count": 8,
   "metadata": {},
   "outputs": [],
   "source": [
    "df[\"name\"] = np.where(df[\"name\"].str.lower().str.contains(\"gin tonic\"), \"Gin Tonic\", df[\"name\"])"
   ]
  },
  {
   "cell_type": "code",
   "execution_count": 9,
   "metadata": {},
   "outputs": [],
   "source": [
    "df[\"name\"] = np.where(\n",
    "    df[\"name\"].str.lower().str.contains(r\"\\bgin\\b\") & ~df[\"name\"].str.lower().str.contains(\"gin tonic\"),\n",
    "    \"Gin\",\n",
    "    df[\"name\"]\n",
    ")\n"
   ]
  },
  {
   "cell_type": "code",
   "execution_count": 10,
   "metadata": {},
   "outputs": [],
   "source": [
    "df[\"name\"] = np.where(\n",
    "    df[\"name\"].str.lower().str.contains(\"rhabarber\"),\n",
    "    \"Bio Rhabarber Limonade\",\n",
    "    df[\"name\"]\n",
    ")\n"
   ]
  },
  {
   "cell_type": "code",
   "execution_count": 11,
   "metadata": {},
   "outputs": [],
   "source": [
    "df[\"name\"] = np.where(\n",
    "    df[\"name\"].str.lower().str.contains(\"zitrone\") & ~df[\"name\"].str.lower().str.contains(\"gin\"),\n",
    "    \"Bio Zitronen Limonade\",\n",
    "    df[\"name\"]\n",
    ")\n"
   ]
  },
  {
   "cell_type": "code",
   "execution_count": 12,
   "metadata": {},
   "outputs": [],
   "source": [
    "df[\"name\"] = np.where(\n",
    "    df[\"name\"].str.lower().str.contains(\"riesling\"),\n",
    "    \"Riesling\",\n",
    "    df[\"name\"]\n",
    ")\n"
   ]
  },
  {
   "cell_type": "code",
   "execution_count": 13,
   "metadata": {},
   "outputs": [],
   "source": [
    "df[\"name\"] = np.where(\n",
    "    df[\"name\"].str.lower().str.contains(\"rotwein\"),\n",
    "    \"Rotwein\",\n",
    "    df[\"name\"]\n",
    ")\n"
   ]
  },
  {
   "cell_type": "code",
   "execution_count": 14,
   "metadata": {},
   "outputs": [],
   "source": [
    "df[\"name\"] = np.where(\n",
    "    df[\"name\"].str.lower().str.contains(\"radler\"),\n",
    "    \"Bitburger Radler\",\n",
    "    df[\"name\"]\n",
    ")\n"
   ]
  },
  {
   "cell_type": "code",
   "execution_count": 15,
   "metadata": {},
   "outputs": [],
   "source": [
    "df[\"name\"] = np.where(\n",
    "    df[\"name\"].str.lower().str.contains(\"sekt\"),\n",
    "    \"Sekt\",\n",
    "    df[\"name\"]\n",
    ")\n"
   ]
  },
  {
   "cell_type": "code",
   "execution_count": 16,
   "metadata": {},
   "outputs": [],
   "source": [
    "df[\"name\"] = np.where(\n",
    "    df[\"name\"].str.lower().str.contains(\"hell\"),\n",
    "    \"Bier Hell\",\n",
    "    df[\"name\"]\n",
    ")\n"
   ]
  },
  {
   "cell_type": "code",
   "execution_count": 17,
   "metadata": {},
   "outputs": [],
   "source": [
    "df.to_csv(\"baverages_concat.csv\", index=False)"
   ]
  }
 ],
 "metadata": {
  "kernelspec": {
   "display_name": "Python 3",
   "language": "python",
   "name": "python3"
  },
  "language_info": {
   "codemirror_mode": {
    "name": "ipython",
    "version": 3
   },
   "file_extension": ".py",
   "mimetype": "text/x-python",
   "name": "python",
   "nbconvert_exporter": "python",
   "pygments_lexer": "ipython3",
   "version": "3.13.0"
  }
 },
 "nbformat": 4,
 "nbformat_minor": 2
}
